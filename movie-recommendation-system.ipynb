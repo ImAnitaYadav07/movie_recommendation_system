{
 "cells": [
  {
   "cell_type": "code",
   "execution_count": 1,
   "id": "d49dcbe0",
   "metadata": {
    "execution": {
     "iopub.execute_input": "2023-06-12T05:14:08.683327Z",
     "iopub.status.busy": "2023-06-12T05:14:08.682929Z",
     "iopub.status.idle": "2023-06-12T05:14:08.693544Z",
     "shell.execute_reply": "2023-06-12T05:14:08.692385Z"
    },
    "papermill": {
     "duration": 0.02331,
     "end_time": "2023-06-12T05:14:08.695977",
     "exception": false,
     "start_time": "2023-06-12T05:14:08.672667",
     "status": "completed"
    },
    "tags": []
   },
   "outputs": [],
   "source": [
    "import pandas as pd"
   ]
  },
  {
   "cell_type": "code",
   "execution_count": 2,
   "id": "7d918cd4",
   "metadata": {
    "execution": {
     "iopub.execute_input": "2023-06-12T05:14:08.713876Z",
     "iopub.status.busy": "2023-06-12T05:14:08.712804Z",
     "iopub.status.idle": "2023-06-12T05:14:08.856353Z",
     "shell.execute_reply": "2023-06-12T05:14:08.855306Z"
    },
    "papermill": {
     "duration": 0.154701,
     "end_time": "2023-06-12T05:14:08.858519",
     "exception": false,
     "start_time": "2023-06-12T05:14:08.703818",
     "status": "completed"
    },
    "tags": []
   },
   "outputs": [
    {
     "data": {
      "text/html": [
       "<div>\n",
       "<style scoped>\n",
       "    .dataframe tbody tr th:only-of-type {\n",
       "        vertical-align: middle;\n",
       "    }\n",
       "\n",
       "    .dataframe tbody tr th {\n",
       "        vertical-align: top;\n",
       "    }\n",
       "\n",
       "    .dataframe thead th {\n",
       "        text-align: right;\n",
       "    }\n",
       "</style>\n",
       "<table border=\"1\" class=\"dataframe\">\n",
       "  <thead>\n",
       "    <tr style=\"text-align: right;\">\n",
       "      <th></th>\n",
       "      <th>movieId</th>\n",
       "      <th>title</th>\n",
       "      <th>genres</th>\n",
       "    </tr>\n",
       "  </thead>\n",
       "  <tbody>\n",
       "    <tr>\n",
       "      <th>0</th>\n",
       "      <td>1</td>\n",
       "      <td>Toy Story (1995)</td>\n",
       "      <td>Adventure|Animation|Children|Comedy|Fantasy</td>\n",
       "    </tr>\n",
       "    <tr>\n",
       "      <th>1</th>\n",
       "      <td>2</td>\n",
       "      <td>Jumanji (1995)</td>\n",
       "      <td>Adventure|Children|Fantasy</td>\n",
       "    </tr>\n",
       "    <tr>\n",
       "      <th>2</th>\n",
       "      <td>3</td>\n",
       "      <td>Grumpier Old Men (1995)</td>\n",
       "      <td>Comedy|Romance</td>\n",
       "    </tr>\n",
       "    <tr>\n",
       "      <th>3</th>\n",
       "      <td>4</td>\n",
       "      <td>Waiting to Exhale (1995)</td>\n",
       "      <td>Comedy|Drama|Romance</td>\n",
       "    </tr>\n",
       "    <tr>\n",
       "      <th>4</th>\n",
       "      <td>5</td>\n",
       "      <td>Father of the Bride Part II (1995)</td>\n",
       "      <td>Comedy</td>\n",
       "    </tr>\n",
       "    <tr>\n",
       "      <th>...</th>\n",
       "      <td>...</td>\n",
       "      <td>...</td>\n",
       "      <td>...</td>\n",
       "    </tr>\n",
       "    <tr>\n",
       "      <th>62418</th>\n",
       "      <td>209157</td>\n",
       "      <td>We (2018)</td>\n",
       "      <td>Drama</td>\n",
       "    </tr>\n",
       "    <tr>\n",
       "      <th>62419</th>\n",
       "      <td>209159</td>\n",
       "      <td>Window of the Soul (2001)</td>\n",
       "      <td>Documentary</td>\n",
       "    </tr>\n",
       "    <tr>\n",
       "      <th>62420</th>\n",
       "      <td>209163</td>\n",
       "      <td>Bad Poems (2018)</td>\n",
       "      <td>Comedy|Drama</td>\n",
       "    </tr>\n",
       "    <tr>\n",
       "      <th>62421</th>\n",
       "      <td>209169</td>\n",
       "      <td>A Girl Thing (2001)</td>\n",
       "      <td>(no genres listed)</td>\n",
       "    </tr>\n",
       "    <tr>\n",
       "      <th>62422</th>\n",
       "      <td>209171</td>\n",
       "      <td>Women of Devil's Island (1962)</td>\n",
       "      <td>Action|Adventure|Drama</td>\n",
       "    </tr>\n",
       "  </tbody>\n",
       "</table>\n",
       "<p>62423 rows × 3 columns</p>\n",
       "</div>"
      ],
      "text/plain": [
       "       movieId                               title  \\\n",
       "0            1                    Toy Story (1995)   \n",
       "1            2                      Jumanji (1995)   \n",
       "2            3             Grumpier Old Men (1995)   \n",
       "3            4            Waiting to Exhale (1995)   \n",
       "4            5  Father of the Bride Part II (1995)   \n",
       "...        ...                                 ...   \n",
       "62418   209157                           We (2018)   \n",
       "62419   209159           Window of the Soul (2001)   \n",
       "62420   209163                    Bad Poems (2018)   \n",
       "62421   209169                 A Girl Thing (2001)   \n",
       "62422   209171      Women of Devil's Island (1962)   \n",
       "\n",
       "                                            genres  \n",
       "0      Adventure|Animation|Children|Comedy|Fantasy  \n",
       "1                       Adventure|Children|Fantasy  \n",
       "2                                   Comedy|Romance  \n",
       "3                             Comedy|Drama|Romance  \n",
       "4                                           Comedy  \n",
       "...                                            ...  \n",
       "62418                                        Drama  \n",
       "62419                                  Documentary  \n",
       "62420                                 Comedy|Drama  \n",
       "62421                           (no genres listed)  \n",
       "62422                       Action|Adventure|Drama  \n",
       "\n",
       "[62423 rows x 3 columns]"
      ]
     },
     "execution_count": 2,
     "metadata": {},
     "output_type": "execute_result"
    }
   ],
   "source": [
    "df = pd.read_csv('/kaggle/input/movielens/movies.csv')\n",
    "df"
   ]
  },
  {
   "cell_type": "code",
   "execution_count": 3,
   "id": "6d71d693",
   "metadata": {
    "execution": {
     "iopub.execute_input": "2023-06-12T05:14:08.875574Z",
     "iopub.status.busy": "2023-06-12T05:14:08.875179Z",
     "iopub.status.idle": "2023-06-12T05:14:08.886755Z",
     "shell.execute_reply": "2023-06-12T05:14:08.885588Z"
    },
    "papermill": {
     "duration": 0.022454,
     "end_time": "2023-06-12T05:14:08.888839",
     "exception": false,
     "start_time": "2023-06-12T05:14:08.866385",
     "status": "completed"
    },
    "tags": []
   },
   "outputs": [
    {
     "data": {
      "text/plain": [
       "<bound method NDFrame.describe of        movieId                               title  \\\n",
       "0            1                    Toy Story (1995)   \n",
       "1            2                      Jumanji (1995)   \n",
       "2            3             Grumpier Old Men (1995)   \n",
       "3            4            Waiting to Exhale (1995)   \n",
       "4            5  Father of the Bride Part II (1995)   \n",
       "...        ...                                 ...   \n",
       "62418   209157                           We (2018)   \n",
       "62419   209159           Window of the Soul (2001)   \n",
       "62420   209163                    Bad Poems (2018)   \n",
       "62421   209169                 A Girl Thing (2001)   \n",
       "62422   209171      Women of Devil's Island (1962)   \n",
       "\n",
       "                                            genres  \n",
       "0      Adventure|Animation|Children|Comedy|Fantasy  \n",
       "1                       Adventure|Children|Fantasy  \n",
       "2                                   Comedy|Romance  \n",
       "3                             Comedy|Drama|Romance  \n",
       "4                                           Comedy  \n",
       "...                                            ...  \n",
       "62418                                        Drama  \n",
       "62419                                  Documentary  \n",
       "62420                                 Comedy|Drama  \n",
       "62421                           (no genres listed)  \n",
       "62422                       Action|Adventure|Drama  \n",
       "\n",
       "[62423 rows x 3 columns]>"
      ]
     },
     "execution_count": 3,
     "metadata": {},
     "output_type": "execute_result"
    }
   ],
   "source": [
    "df.describe"
   ]
  },
  {
   "cell_type": "code",
   "execution_count": 4,
   "id": "94c44d4a",
   "metadata": {
    "execution": {
     "iopub.execute_input": "2023-06-12T05:14:08.906419Z",
     "iopub.status.busy": "2023-06-12T05:14:08.906018Z",
     "iopub.status.idle": "2023-06-12T05:14:08.930427Z",
     "shell.execute_reply": "2023-06-12T05:14:08.929150Z"
    },
    "papermill": {
     "duration": 0.035589,
     "end_time": "2023-06-12T05:14:08.932423",
     "exception": false,
     "start_time": "2023-06-12T05:14:08.896834",
     "status": "completed"
    },
    "tags": []
   },
   "outputs": [
    {
     "data": {
      "text/html": [
       "<div>\n",
       "<style scoped>\n",
       "    .dataframe tbody tr th:only-of-type {\n",
       "        vertical-align: middle;\n",
       "    }\n",
       "\n",
       "    .dataframe tbody tr th {\n",
       "        vertical-align: top;\n",
       "    }\n",
       "\n",
       "    .dataframe thead th {\n",
       "        text-align: right;\n",
       "    }\n",
       "</style>\n",
       "<table border=\"1\" class=\"dataframe\">\n",
       "  <thead>\n",
       "    <tr style=\"text-align: right;\">\n",
       "      <th></th>\n",
       "      <th>movieId</th>\n",
       "      <th>title</th>\n",
       "      <th>genres</th>\n",
       "    </tr>\n",
       "  </thead>\n",
       "  <tbody>\n",
       "    <tr>\n",
       "      <th>15881</th>\n",
       "      <td>83773</td>\n",
       "      <td>Away with Words (San tiao ren) (1999)</td>\n",
       "      <td>(no genres listed)</td>\n",
       "    </tr>\n",
       "    <tr>\n",
       "      <th>16060</th>\n",
       "      <td>84768</td>\n",
       "      <td>Glitterbug (1994)</td>\n",
       "      <td>(no genres listed)</td>\n",
       "    </tr>\n",
       "    <tr>\n",
       "      <th>16351</th>\n",
       "      <td>86493</td>\n",
       "      <td>Age of the Earth, The (A Idade da Terra) (1980)</td>\n",
       "      <td>(no genres listed)</td>\n",
       "    </tr>\n",
       "    <tr>\n",
       "      <th>16491</th>\n",
       "      <td>87061</td>\n",
       "      <td>Trails (Veredas) (1978)</td>\n",
       "      <td>(no genres listed)</td>\n",
       "    </tr>\n",
       "    <tr>\n",
       "      <th>17404</th>\n",
       "      <td>91246</td>\n",
       "      <td>Milky Way (Tejút) (2007)</td>\n",
       "      <td>(no genres listed)</td>\n",
       "    </tr>\n",
       "    <tr>\n",
       "      <th>...</th>\n",
       "      <td>...</td>\n",
       "      <td>...</td>\n",
       "      <td>...</td>\n",
       "    </tr>\n",
       "    <tr>\n",
       "      <th>62400</th>\n",
       "      <td>209101</td>\n",
       "      <td>Hua yang de nian hua (2001)</td>\n",
       "      <td>(no genres listed)</td>\n",
       "    </tr>\n",
       "    <tr>\n",
       "      <th>62401</th>\n",
       "      <td>209103</td>\n",
       "      <td>Tsar Ivan the Terrible (1991)</td>\n",
       "      <td>(no genres listed)</td>\n",
       "    </tr>\n",
       "    <tr>\n",
       "      <th>62407</th>\n",
       "      <td>209133</td>\n",
       "      <td>The Riot and the Dance (2018)</td>\n",
       "      <td>(no genres listed)</td>\n",
       "    </tr>\n",
       "    <tr>\n",
       "      <th>62415</th>\n",
       "      <td>209151</td>\n",
       "      <td>Mao Zedong 1949 (2019)</td>\n",
       "      <td>(no genres listed)</td>\n",
       "    </tr>\n",
       "    <tr>\n",
       "      <th>62421</th>\n",
       "      <td>209169</td>\n",
       "      <td>A Girl Thing (2001)</td>\n",
       "      <td>(no genres listed)</td>\n",
       "    </tr>\n",
       "  </tbody>\n",
       "</table>\n",
       "<p>5062 rows × 3 columns</p>\n",
       "</div>"
      ],
      "text/plain": [
       "       movieId                                            title  \\\n",
       "15881    83773            Away with Words (San tiao ren) (1999)   \n",
       "16060    84768                                Glitterbug (1994)   \n",
       "16351    86493  Age of the Earth, The (A Idade da Terra) (1980)   \n",
       "16491    87061                          Trails (Veredas) (1978)   \n",
       "17404    91246                         Milky Way (Tejút) (2007)   \n",
       "...        ...                                              ...   \n",
       "62400   209101                      Hua yang de nian hua (2001)   \n",
       "62401   209103                    Tsar Ivan the Terrible (1991)   \n",
       "62407   209133                    The Riot and the Dance (2018)   \n",
       "62415   209151                           Mao Zedong 1949 (2019)   \n",
       "62421   209169                              A Girl Thing (2001)   \n",
       "\n",
       "                   genres  \n",
       "15881  (no genres listed)  \n",
       "16060  (no genres listed)  \n",
       "16351  (no genres listed)  \n",
       "16491  (no genres listed)  \n",
       "17404  (no genres listed)  \n",
       "...                   ...  \n",
       "62400  (no genres listed)  \n",
       "62401  (no genres listed)  \n",
       "62407  (no genres listed)  \n",
       "62415  (no genres listed)  \n",
       "62421  (no genres listed)  \n",
       "\n",
       "[5062 rows x 3 columns]"
      ]
     },
     "execution_count": 4,
     "metadata": {},
     "output_type": "execute_result"
    }
   ],
   "source": [
    "df[df['genres'] == '(no genres listed)']"
   ]
  },
  {
   "cell_type": "markdown",
   "id": "aba44a78",
   "metadata": {
    "papermill": {
     "duration": 0.008078,
     "end_time": "2023-06-12T05:14:08.948776",
     "exception": false,
     "start_time": "2023-06-12T05:14:08.940698",
     "status": "completed"
    },
    "tags": []
   },
   "source": [
    "## Cleaning movie title with REGEX "
   ]
  },
  {
   "cell_type": "code",
   "execution_count": 5,
   "id": "a592f4e6",
   "metadata": {
    "execution": {
     "iopub.execute_input": "2023-06-12T05:14:08.967347Z",
     "iopub.status.busy": "2023-06-12T05:14:08.966952Z",
     "iopub.status.idle": "2023-06-12T05:14:08.971667Z",
     "shell.execute_reply": "2023-06-12T05:14:08.970609Z"
    },
    "papermill": {
     "duration": 0.016105,
     "end_time": "2023-06-12T05:14:08.973534",
     "exception": false,
     "start_time": "2023-06-12T05:14:08.957429",
     "status": "completed"
    },
    "tags": []
   },
   "outputs": [],
   "source": [
    "import re\n",
    "\n",
    "def clean_title(title):\n",
    "    return re.sub(\"[^a-zA-Z0-9]\",\" \", title)\n",
    "    "
   ]
  },
  {
   "cell_type": "code",
   "execution_count": 6,
   "id": "d6a3b242",
   "metadata": {
    "execution": {
     "iopub.execute_input": "2023-06-12T05:14:08.991653Z",
     "iopub.status.busy": "2023-06-12T05:14:08.991310Z",
     "iopub.status.idle": "2023-06-12T05:14:09.128874Z",
     "shell.execute_reply": "2023-06-12T05:14:09.127642Z"
    },
    "papermill": {
     "duration": 0.149345,
     "end_time": "2023-06-12T05:14:09.131259",
     "exception": false,
     "start_time": "2023-06-12T05:14:08.981914",
     "status": "completed"
    },
    "tags": []
   },
   "outputs": [],
   "source": [
    "df['clean_title'] = df['title'].apply(clean_title)"
   ]
  },
  {
   "cell_type": "code",
   "execution_count": 7,
   "id": "0780d098",
   "metadata": {
    "execution": {
     "iopub.execute_input": "2023-06-12T05:14:09.149743Z",
     "iopub.status.busy": "2023-06-12T05:14:09.149400Z",
     "iopub.status.idle": "2023-06-12T05:14:09.163728Z",
     "shell.execute_reply": "2023-06-12T05:14:09.162673Z"
    },
    "papermill": {
     "duration": 0.026159,
     "end_time": "2023-06-12T05:14:09.166087",
     "exception": false,
     "start_time": "2023-06-12T05:14:09.139928",
     "status": "completed"
    },
    "tags": []
   },
   "outputs": [
    {
     "data": {
      "text/html": [
       "<div>\n",
       "<style scoped>\n",
       "    .dataframe tbody tr th:only-of-type {\n",
       "        vertical-align: middle;\n",
       "    }\n",
       "\n",
       "    .dataframe tbody tr th {\n",
       "        vertical-align: top;\n",
       "    }\n",
       "\n",
       "    .dataframe thead th {\n",
       "        text-align: right;\n",
       "    }\n",
       "</style>\n",
       "<table border=\"1\" class=\"dataframe\">\n",
       "  <thead>\n",
       "    <tr style=\"text-align: right;\">\n",
       "      <th></th>\n",
       "      <th>movieId</th>\n",
       "      <th>title</th>\n",
       "      <th>genres</th>\n",
       "      <th>clean_title</th>\n",
       "    </tr>\n",
       "  </thead>\n",
       "  <tbody>\n",
       "    <tr>\n",
       "      <th>0</th>\n",
       "      <td>1</td>\n",
       "      <td>Toy Story (1995)</td>\n",
       "      <td>Adventure|Animation|Children|Comedy|Fantasy</td>\n",
       "      <td>Toy Story  1995</td>\n",
       "    </tr>\n",
       "    <tr>\n",
       "      <th>1</th>\n",
       "      <td>2</td>\n",
       "      <td>Jumanji (1995)</td>\n",
       "      <td>Adventure|Children|Fantasy</td>\n",
       "      <td>Jumanji  1995</td>\n",
       "    </tr>\n",
       "    <tr>\n",
       "      <th>2</th>\n",
       "      <td>3</td>\n",
       "      <td>Grumpier Old Men (1995)</td>\n",
       "      <td>Comedy|Romance</td>\n",
       "      <td>Grumpier Old Men  1995</td>\n",
       "    </tr>\n",
       "    <tr>\n",
       "      <th>3</th>\n",
       "      <td>4</td>\n",
       "      <td>Waiting to Exhale (1995)</td>\n",
       "      <td>Comedy|Drama|Romance</td>\n",
       "      <td>Waiting to Exhale  1995</td>\n",
       "    </tr>\n",
       "    <tr>\n",
       "      <th>4</th>\n",
       "      <td>5</td>\n",
       "      <td>Father of the Bride Part II (1995)</td>\n",
       "      <td>Comedy</td>\n",
       "      <td>Father of the Bride Part II  1995</td>\n",
       "    </tr>\n",
       "    <tr>\n",
       "      <th>...</th>\n",
       "      <td>...</td>\n",
       "      <td>...</td>\n",
       "      <td>...</td>\n",
       "      <td>...</td>\n",
       "    </tr>\n",
       "    <tr>\n",
       "      <th>62418</th>\n",
       "      <td>209157</td>\n",
       "      <td>We (2018)</td>\n",
       "      <td>Drama</td>\n",
       "      <td>We  2018</td>\n",
       "    </tr>\n",
       "    <tr>\n",
       "      <th>62419</th>\n",
       "      <td>209159</td>\n",
       "      <td>Window of the Soul (2001)</td>\n",
       "      <td>Documentary</td>\n",
       "      <td>Window of the Soul  2001</td>\n",
       "    </tr>\n",
       "    <tr>\n",
       "      <th>62420</th>\n",
       "      <td>209163</td>\n",
       "      <td>Bad Poems (2018)</td>\n",
       "      <td>Comedy|Drama</td>\n",
       "      <td>Bad Poems  2018</td>\n",
       "    </tr>\n",
       "    <tr>\n",
       "      <th>62421</th>\n",
       "      <td>209169</td>\n",
       "      <td>A Girl Thing (2001)</td>\n",
       "      <td>(no genres listed)</td>\n",
       "      <td>A Girl Thing  2001</td>\n",
       "    </tr>\n",
       "    <tr>\n",
       "      <th>62422</th>\n",
       "      <td>209171</td>\n",
       "      <td>Women of Devil's Island (1962)</td>\n",
       "      <td>Action|Adventure|Drama</td>\n",
       "      <td>Women of Devil s Island  1962</td>\n",
       "    </tr>\n",
       "  </tbody>\n",
       "</table>\n",
       "<p>62423 rows × 4 columns</p>\n",
       "</div>"
      ],
      "text/plain": [
       "       movieId                               title  \\\n",
       "0            1                    Toy Story (1995)   \n",
       "1            2                      Jumanji (1995)   \n",
       "2            3             Grumpier Old Men (1995)   \n",
       "3            4            Waiting to Exhale (1995)   \n",
       "4            5  Father of the Bride Part II (1995)   \n",
       "...        ...                                 ...   \n",
       "62418   209157                           We (2018)   \n",
       "62419   209159           Window of the Soul (2001)   \n",
       "62420   209163                    Bad Poems (2018)   \n",
       "62421   209169                 A Girl Thing (2001)   \n",
       "62422   209171      Women of Devil's Island (1962)   \n",
       "\n",
       "                                            genres  \\\n",
       "0      Adventure|Animation|Children|Comedy|Fantasy   \n",
       "1                       Adventure|Children|Fantasy   \n",
       "2                                   Comedy|Romance   \n",
       "3                             Comedy|Drama|Romance   \n",
       "4                                           Comedy   \n",
       "...                                            ...   \n",
       "62418                                        Drama   \n",
       "62419                                  Documentary   \n",
       "62420                                 Comedy|Drama   \n",
       "62421                           (no genres listed)   \n",
       "62422                       Action|Adventure|Drama   \n",
       "\n",
       "                              clean_title  \n",
       "0                        Toy Story  1995   \n",
       "1                          Jumanji  1995   \n",
       "2                 Grumpier Old Men  1995   \n",
       "3                Waiting to Exhale  1995   \n",
       "4      Father of the Bride Part II  1995   \n",
       "...                                   ...  \n",
       "62418                           We  2018   \n",
       "62419           Window of the Soul  2001   \n",
       "62420                    Bad Poems  2018   \n",
       "62421                 A Girl Thing  2001   \n",
       "62422      Women of Devil s Island  1962   \n",
       "\n",
       "[62423 rows x 4 columns]"
      ]
     },
     "execution_count": 7,
     "metadata": {},
     "output_type": "execute_result"
    }
   ],
   "source": [
    "df"
   ]
  },
  {
   "cell_type": "markdown",
   "id": "b994ed78",
   "metadata": {
    "papermill": {
     "duration": 0.007892,
     "end_time": "2023-06-12T05:14:09.182793",
     "exception": false,
     "start_time": "2023-06-12T05:14:09.174901",
     "status": "completed"
    },
    "tags": []
   },
   "source": [
    "## Creating TFIDF Matrix "
   ]
  },
  {
   "cell_type": "markdown",
   "id": "ce10db7b",
   "metadata": {
    "papermill": {
     "duration": 0.007954,
     "end_time": "2023-06-12T05:14:09.199061",
     "exception": false,
     "start_time": "2023-06-12T05:14:09.191107",
     "status": "completed"
    },
    "tags": []
   },
   "source": [
    "* Term Frequency\n",
    "* Inverse Document Frequency\n",
    "* Tf*Idf"
   ]
  },
  {
   "cell_type": "code",
   "execution_count": 8,
   "id": "d1e0c413",
   "metadata": {
    "execution": {
     "iopub.execute_input": "2023-06-12T05:14:09.217739Z",
     "iopub.status.busy": "2023-06-12T05:14:09.216832Z",
     "iopub.status.idle": "2023-06-12T05:14:11.882106Z",
     "shell.execute_reply": "2023-06-12T05:14:11.880985Z"
    },
    "papermill": {
     "duration": 2.676987,
     "end_time": "2023-06-12T05:14:11.884400",
     "exception": false,
     "start_time": "2023-06-12T05:14:09.207413",
     "status": "completed"
    },
    "tags": []
   },
   "outputs": [],
   "source": [
    "from sklearn.feature_extraction.text import TfidfVectorizer\n",
    "\n",
    "vectorizer = TfidfVectorizer(ngram_range=(1,2))\n",
    "tfidf = vectorizer.fit_transform(df['clean_title'])"
   ]
  },
  {
   "cell_type": "markdown",
   "id": "8a15d150",
   "metadata": {
    "papermill": {
     "duration": 0.007612,
     "end_time": "2023-06-12T05:14:11.900230",
     "exception": false,
     "start_time": "2023-06-12T05:14:11.892618",
     "status": "completed"
    },
    "tags": []
   },
   "source": [
    "##  Creating Searching Function"
   ]
  },
  {
   "cell_type": "code",
   "execution_count": 9,
   "id": "00b8b20d",
   "metadata": {
    "execution": {
     "iopub.execute_input": "2023-06-12T05:14:11.917845Z",
     "iopub.status.busy": "2023-06-12T05:14:11.917513Z",
     "iopub.status.idle": "2023-06-12T05:14:12.016834Z",
     "shell.execute_reply": "2023-06-12T05:14:12.015637Z"
    },
    "papermill": {
     "duration": 0.111071,
     "end_time": "2023-06-12T05:14:12.019307",
     "exception": false,
     "start_time": "2023-06-12T05:14:11.908236",
     "status": "completed"
    },
    "tags": []
   },
   "outputs": [],
   "source": [
    "from sklearn.metrics.pairwise import cosine_similarity\n",
    "import numpy as np\n",
    "\n",
    "\n",
    "def search(title):\n",
    "    title = clean_title(title)\n",
    "    query_vec = vectorizer.transform([title])\n",
    "    similarity = cosine_similarity(query_vec, tfidf).flatten()\n",
    "    indices = np.argpartition(similarity, -5)[-5:]\n",
    "    results = df.iloc[indices][::-1]\n",
    "    return results"
   ]
  },
  {
   "cell_type": "markdown",
   "id": "5d35fc72",
   "metadata": {
    "papermill": {
     "duration": 0.007986,
     "end_time": "2023-06-12T05:14:12.035788",
     "exception": false,
     "start_time": "2023-06-12T05:14:12.027802",
     "status": "completed"
    },
    "tags": []
   },
   "source": [
    "## Building An Intrective Search Box "
   ]
  },
  {
   "cell_type": "code",
   "execution_count": 10,
   "id": "edfecebb",
   "metadata": {
    "execution": {
     "iopub.execute_input": "2023-06-12T05:14:12.053504Z",
     "iopub.status.busy": "2023-06-12T05:14:12.053168Z",
     "iopub.status.idle": "2023-06-12T05:14:12.150201Z",
     "shell.execute_reply": "2023-06-12T05:14:12.149054Z"
    },
    "papermill": {
     "duration": 0.109033,
     "end_time": "2023-06-12T05:14:12.152882",
     "exception": false,
     "start_time": "2023-06-12T05:14:12.043849",
     "status": "completed"
    },
    "tags": []
   },
   "outputs": [
    {
     "data": {
      "application/vnd.jupyter.widget-view+json": {
       "model_id": "884a18492393461aa15f50fc18873d6f",
       "version_major": 2,
       "version_minor": 0
      },
      "text/plain": [
       "Text(value='Toy Story', description='Movie Title:')"
      ]
     },
     "metadata": {},
     "output_type": "display_data"
    },
    {
     "data": {
      "application/vnd.jupyter.widget-view+json": {
       "model_id": "a0bcd0b5b5db43759efcb400769271e5",
       "version_major": 2,
       "version_minor": 0
      },
      "text/plain": [
       "Output()"
      ]
     },
     "metadata": {},
     "output_type": "display_data"
    }
   ],
   "source": [
    "import ipywidgets as widgets\n",
    "from IPython.display import display\n",
    "\n",
    "movie_input = widgets.Text(\n",
    "    value = 'Toy Story',\n",
    "    description = 'Movie Title:',\n",
    "    disabled = False\n",
    ")\n",
    "\n",
    "movie_list = widgets.Output()\n",
    "\n",
    "def on_type(data):\n",
    "    with movie_list:\n",
    "        movie_list.clear_output()\n",
    "        title = data['new']\n",
    "        if len(title) > 5:\n",
    "            display(search(title))\n",
    "            \n",
    "            \n",
    "movie_input.observe(on_type, names='value')\n",
    "display(movie_input, movie_list)"
   ]
  },
  {
   "cell_type": "markdown",
   "id": "11b1f534",
   "metadata": {
    "papermill": {
     "duration": 0.008061,
     "end_time": "2023-06-12T05:14:12.169826",
     "exception": false,
     "start_time": "2023-06-12T05:14:12.161765",
     "status": "completed"
    },
    "tags": []
   },
   "source": [
    "## Reading In Movie Ratings Data "
   ]
  },
  {
   "cell_type": "code",
   "execution_count": 11,
   "id": "8b6bb828",
   "metadata": {
    "execution": {
     "iopub.execute_input": "2023-06-12T05:14:12.190211Z",
     "iopub.status.busy": "2023-06-12T05:14:12.188607Z",
     "iopub.status.idle": "2023-06-12T05:14:24.507678Z",
     "shell.execute_reply": "2023-06-12T05:14:24.507034Z"
    },
    "papermill": {
     "duration": 12.331645,
     "end_time": "2023-06-12T05:14:24.510246",
     "exception": false,
     "start_time": "2023-06-12T05:14:12.178601",
     "status": "completed"
    },
    "tags": []
   },
   "outputs": [],
   "source": [
    "ratings = pd.read_csv('/kaggle/input/movierating/ratings.csv')"
   ]
  },
  {
   "cell_type": "code",
   "execution_count": 12,
   "id": "2a980228",
   "metadata": {
    "execution": {
     "iopub.execute_input": "2023-06-12T05:14:24.530255Z",
     "iopub.status.busy": "2023-06-12T05:14:24.529086Z",
     "iopub.status.idle": "2023-06-12T05:14:24.542727Z",
     "shell.execute_reply": "2023-06-12T05:14:24.541556Z"
    },
    "papermill": {
     "duration": 0.024875,
     "end_time": "2023-06-12T05:14:24.544417",
     "exception": false,
     "start_time": "2023-06-12T05:14:24.519542",
     "status": "completed"
    },
    "tags": []
   },
   "outputs": [
    {
     "data": {
      "text/html": [
       "<div>\n",
       "<style scoped>\n",
       "    .dataframe tbody tr th:only-of-type {\n",
       "        vertical-align: middle;\n",
       "    }\n",
       "\n",
       "    .dataframe tbody tr th {\n",
       "        vertical-align: top;\n",
       "    }\n",
       "\n",
       "    .dataframe thead th {\n",
       "        text-align: right;\n",
       "    }\n",
       "</style>\n",
       "<table border=\"1\" class=\"dataframe\">\n",
       "  <thead>\n",
       "    <tr style=\"text-align: right;\">\n",
       "      <th></th>\n",
       "      <th>userId</th>\n",
       "      <th>movieId</th>\n",
       "      <th>rating</th>\n",
       "      <th>timestamp</th>\n",
       "    </tr>\n",
       "  </thead>\n",
       "  <tbody>\n",
       "    <tr>\n",
       "      <th>0</th>\n",
       "      <td>1</td>\n",
       "      <td>296</td>\n",
       "      <td>5.0</td>\n",
       "      <td>1147880044</td>\n",
       "    </tr>\n",
       "    <tr>\n",
       "      <th>1</th>\n",
       "      <td>1</td>\n",
       "      <td>306</td>\n",
       "      <td>3.5</td>\n",
       "      <td>1147868817</td>\n",
       "    </tr>\n",
       "    <tr>\n",
       "      <th>2</th>\n",
       "      <td>1</td>\n",
       "      <td>307</td>\n",
       "      <td>5.0</td>\n",
       "      <td>1147868828</td>\n",
       "    </tr>\n",
       "    <tr>\n",
       "      <th>3</th>\n",
       "      <td>1</td>\n",
       "      <td>665</td>\n",
       "      <td>5.0</td>\n",
       "      <td>1147878820</td>\n",
       "    </tr>\n",
       "    <tr>\n",
       "      <th>4</th>\n",
       "      <td>1</td>\n",
       "      <td>899</td>\n",
       "      <td>3.5</td>\n",
       "      <td>1147868510</td>\n",
       "    </tr>\n",
       "    <tr>\n",
       "      <th>...</th>\n",
       "      <td>...</td>\n",
       "      <td>...</td>\n",
       "      <td>...</td>\n",
       "      <td>...</td>\n",
       "    </tr>\n",
       "    <tr>\n",
       "      <th>25000090</th>\n",
       "      <td>162541</td>\n",
       "      <td>50872</td>\n",
       "      <td>4.5</td>\n",
       "      <td>1240953372</td>\n",
       "    </tr>\n",
       "    <tr>\n",
       "      <th>25000091</th>\n",
       "      <td>162541</td>\n",
       "      <td>55768</td>\n",
       "      <td>2.5</td>\n",
       "      <td>1240951998</td>\n",
       "    </tr>\n",
       "    <tr>\n",
       "      <th>25000092</th>\n",
       "      <td>162541</td>\n",
       "      <td>56176</td>\n",
       "      <td>2.0</td>\n",
       "      <td>1240950697</td>\n",
       "    </tr>\n",
       "    <tr>\n",
       "      <th>25000093</th>\n",
       "      <td>162541</td>\n",
       "      <td>58559</td>\n",
       "      <td>4.0</td>\n",
       "      <td>1240953434</td>\n",
       "    </tr>\n",
       "    <tr>\n",
       "      <th>25000094</th>\n",
       "      <td>162541</td>\n",
       "      <td>63876</td>\n",
       "      <td>5.0</td>\n",
       "      <td>1240952515</td>\n",
       "    </tr>\n",
       "  </tbody>\n",
       "</table>\n",
       "<p>25000095 rows × 4 columns</p>\n",
       "</div>"
      ],
      "text/plain": [
       "          userId  movieId  rating   timestamp\n",
       "0              1      296     5.0  1147880044\n",
       "1              1      306     3.5  1147868817\n",
       "2              1      307     5.0  1147868828\n",
       "3              1      665     5.0  1147878820\n",
       "4              1      899     3.5  1147868510\n",
       "...          ...      ...     ...         ...\n",
       "25000090  162541    50872     4.5  1240953372\n",
       "25000091  162541    55768     2.5  1240951998\n",
       "25000092  162541    56176     2.0  1240950697\n",
       "25000093  162541    58559     4.0  1240953434\n",
       "25000094  162541    63876     5.0  1240952515\n",
       "\n",
       "[25000095 rows x 4 columns]"
      ]
     },
     "execution_count": 12,
     "metadata": {},
     "output_type": "execute_result"
    }
   ],
   "source": [
    "ratings"
   ]
  },
  {
   "cell_type": "markdown",
   "id": "69543b9a",
   "metadata": {
    "papermill": {
     "duration": 0.008282,
     "end_time": "2023-06-12T05:14:24.561660",
     "exception": false,
     "start_time": "2023-06-12T05:14:24.553378",
     "status": "completed"
    },
    "tags": []
   },
   "source": [
    "## Finding Users Who Liked The Same Movie "
   ]
  },
  {
   "cell_type": "code",
   "execution_count": 13,
   "id": "7fd6ed76",
   "metadata": {
    "execution": {
     "iopub.execute_input": "2023-06-12T05:14:24.582180Z",
     "iopub.status.busy": "2023-06-12T05:14:24.581802Z",
     "iopub.status.idle": "2023-06-12T05:14:24.585826Z",
     "shell.execute_reply": "2023-06-12T05:14:24.584983Z"
    },
    "papermill": {
     "duration": 0.016558,
     "end_time": "2023-06-12T05:14:24.588018",
     "exception": false,
     "start_time": "2023-06-12T05:14:24.571460",
     "status": "completed"
    },
    "tags": []
   },
   "outputs": [],
   "source": [
    "movie_id = 1"
   ]
  },
  {
   "cell_type": "code",
   "execution_count": 14,
   "id": "714cd036",
   "metadata": {
    "execution": {
     "iopub.execute_input": "2023-06-12T05:14:24.607181Z",
     "iopub.status.busy": "2023-06-12T05:14:24.606815Z",
     "iopub.status.idle": "2023-06-12T05:14:24.717068Z",
     "shell.execute_reply": "2023-06-12T05:14:24.715868Z"
    },
    "papermill": {
     "duration": 0.122476,
     "end_time": "2023-06-12T05:14:24.719605",
     "exception": false,
     "start_time": "2023-06-12T05:14:24.597129",
     "status": "completed"
    },
    "tags": []
   },
   "outputs": [],
   "source": [
    "similar_users = ratings[(ratings['movieId'] == movie_id) & (ratings['rating'] >= 5)]['userId'].unique()"
   ]
  },
  {
   "cell_type": "code",
   "execution_count": 15,
   "id": "dda45785",
   "metadata": {
    "execution": {
     "iopub.execute_input": "2023-06-12T05:14:24.739110Z",
     "iopub.status.busy": "2023-06-12T05:14:24.738699Z",
     "iopub.status.idle": "2023-06-12T05:14:24.941095Z",
     "shell.execute_reply": "2023-06-12T05:14:24.939633Z"
    },
    "papermill": {
     "duration": 0.214709,
     "end_time": "2023-06-12T05:14:24.943484",
     "exception": false,
     "start_time": "2023-06-12T05:14:24.728775",
     "status": "completed"
    },
    "tags": []
   },
   "outputs": [],
   "source": [
    "similar_users_recs = ratings[(ratings['userId'].isin(similar_users))\\\n",
    "                    & (ratings['rating'] > 4)]['movieId']\n",
    "                                                "
   ]
  },
  {
   "cell_type": "code",
   "execution_count": 16,
   "id": "0291a778",
   "metadata": {
    "execution": {
     "iopub.execute_input": "2023-06-12T05:14:24.963304Z",
     "iopub.status.busy": "2023-06-12T05:14:24.962856Z",
     "iopub.status.idle": "2023-06-12T05:14:24.971547Z",
     "shell.execute_reply": "2023-06-12T05:14:24.970359Z"
    },
    "papermill": {
     "duration": 0.020742,
     "end_time": "2023-06-12T05:14:24.973618",
     "exception": false,
     "start_time": "2023-06-12T05:14:24.952876",
     "status": "completed"
    },
    "tags": []
   },
   "outputs": [
    {
     "data": {
      "text/plain": [
       "5101           1\n",
       "5105          34\n",
       "5111         110\n",
       "5114         150\n",
       "5127         260\n",
       "            ... \n",
       "24998388    3706\n",
       "24998389    3735\n",
       "24998391    3763\n",
       "24998392    4187\n",
       "24998393    4321\n",
       "Name: movieId, Length: 912084, dtype: int64"
      ]
     },
     "execution_count": 16,
     "metadata": {},
     "output_type": "execute_result"
    }
   ],
   "source": [
    "similar_users_recs"
   ]
  },
  {
   "cell_type": "code",
   "execution_count": 17,
   "id": "5e1781c8",
   "metadata": {
    "execution": {
     "iopub.execute_input": "2023-06-12T05:14:24.994271Z",
     "iopub.status.busy": "2023-06-12T05:14:24.993824Z",
     "iopub.status.idle": "2023-06-12T05:14:25.018189Z",
     "shell.execute_reply": "2023-06-12T05:14:25.017232Z"
    },
    "papermill": {
     "duration": 0.038143,
     "end_time": "2023-06-12T05:14:25.020820",
     "exception": false,
     "start_time": "2023-06-12T05:14:24.982677",
     "status": "completed"
    },
    "tags": []
   },
   "outputs": [],
   "source": [
    "similar_users_recs = similar_users_recs.value_counts()/ len(similar_users)\n",
    "\n",
    "similar_users_recs = similar_users_recs[similar_users_recs >.1]"
   ]
  },
  {
   "cell_type": "code",
   "execution_count": 18,
   "id": "0923153d",
   "metadata": {
    "execution": {
     "iopub.execute_input": "2023-06-12T05:14:25.040863Z",
     "iopub.status.busy": "2023-06-12T05:14:25.039776Z",
     "iopub.status.idle": "2023-06-12T05:14:25.049106Z",
     "shell.execute_reply": "2023-06-12T05:14:25.047835Z"
    },
    "papermill": {
     "duration": 0.021012,
     "end_time": "2023-06-12T05:14:25.050989",
     "exception": false,
     "start_time": "2023-06-12T05:14:25.029977",
     "status": "completed"
    },
    "tags": []
   },
   "outputs": [
    {
     "data": {
      "text/plain": [
       "1       1.000000\n",
       "318     0.414556\n",
       "260     0.404561\n",
       "356     0.347253\n",
       "296     0.342663\n",
       "          ...   \n",
       "1259    0.102991\n",
       "7361    0.101881\n",
       "1206    0.101362\n",
       "1307    0.101066\n",
       "1208    0.100918\n",
       "Name: movieId, Length: 92, dtype: float64"
      ]
     },
     "execution_count": 18,
     "metadata": {},
     "output_type": "execute_result"
    }
   ],
   "source": [
    "similar_users_recs"
   ]
  },
  {
   "cell_type": "markdown",
   "id": "d46f677a",
   "metadata": {
    "papermill": {
     "duration": 0.008889,
     "end_time": "2023-06-12T05:14:25.069760",
     "exception": false,
     "start_time": "2023-06-12T05:14:25.060871",
     "status": "completed"
    },
    "tags": []
   },
   "source": [
    "## Finding how much all users like Movies "
   ]
  },
  {
   "cell_type": "code",
   "execution_count": 19,
   "id": "cebc6286",
   "metadata": {
    "execution": {
     "iopub.execute_input": "2023-06-12T05:14:25.090044Z",
     "iopub.status.busy": "2023-06-12T05:14:25.089199Z",
     "iopub.status.idle": "2023-06-12T05:14:25.726075Z",
     "shell.execute_reply": "2023-06-12T05:14:25.724750Z"
    },
    "papermill": {
     "duration": 0.649535,
     "end_time": "2023-06-12T05:14:25.728593",
     "exception": false,
     "start_time": "2023-06-12T05:14:25.079058",
     "status": "completed"
    },
    "tags": []
   },
   "outputs": [],
   "source": [
    "all_users = ratings[(ratings['movieId'].isin(similar_users_recs.index)) \\\n",
    "                   & (ratings['rating'] > 4)]"
   ]
  },
  {
   "cell_type": "code",
   "execution_count": 20,
   "id": "5c67ce3f",
   "metadata": {
    "execution": {
     "iopub.execute_input": "2023-06-12T05:14:25.749402Z",
     "iopub.status.busy": "2023-06-12T05:14:25.749066Z",
     "iopub.status.idle": "2023-06-12T05:14:25.762385Z",
     "shell.execute_reply": "2023-06-12T05:14:25.760869Z"
    },
    "papermill": {
     "duration": 0.025789,
     "end_time": "2023-06-12T05:14:25.764380",
     "exception": false,
     "start_time": "2023-06-12T05:14:25.738591",
     "status": "completed"
    },
    "tags": []
   },
   "outputs": [
    {
     "data": {
      "text/html": [
       "<div>\n",
       "<style scoped>\n",
       "    .dataframe tbody tr th:only-of-type {\n",
       "        vertical-align: middle;\n",
       "    }\n",
       "\n",
       "    .dataframe tbody tr th {\n",
       "        vertical-align: top;\n",
       "    }\n",
       "\n",
       "    .dataframe thead th {\n",
       "        text-align: right;\n",
       "    }\n",
       "</style>\n",
       "<table border=\"1\" class=\"dataframe\">\n",
       "  <thead>\n",
       "    <tr style=\"text-align: right;\">\n",
       "      <th></th>\n",
       "      <th>userId</th>\n",
       "      <th>movieId</th>\n",
       "      <th>rating</th>\n",
       "      <th>timestamp</th>\n",
       "    </tr>\n",
       "  </thead>\n",
       "  <tbody>\n",
       "    <tr>\n",
       "      <th>0</th>\n",
       "      <td>1</td>\n",
       "      <td>296</td>\n",
       "      <td>5.0</td>\n",
       "      <td>1147880044</td>\n",
       "    </tr>\n",
       "    <tr>\n",
       "      <th>29</th>\n",
       "      <td>1</td>\n",
       "      <td>4973</td>\n",
       "      <td>4.5</td>\n",
       "      <td>1147869080</td>\n",
       "    </tr>\n",
       "    <tr>\n",
       "      <th>48</th>\n",
       "      <td>1</td>\n",
       "      <td>7361</td>\n",
       "      <td>5.0</td>\n",
       "      <td>1147880055</td>\n",
       "    </tr>\n",
       "    <tr>\n",
       "      <th>72</th>\n",
       "      <td>2</td>\n",
       "      <td>110</td>\n",
       "      <td>5.0</td>\n",
       "      <td>1141416589</td>\n",
       "    </tr>\n",
       "    <tr>\n",
       "      <th>76</th>\n",
       "      <td>2</td>\n",
       "      <td>260</td>\n",
       "      <td>5.0</td>\n",
       "      <td>1141417172</td>\n",
       "    </tr>\n",
       "    <tr>\n",
       "      <th>...</th>\n",
       "      <td>...</td>\n",
       "      <td>...</td>\n",
       "      <td>...</td>\n",
       "      <td>...</td>\n",
       "    </tr>\n",
       "    <tr>\n",
       "      <th>25000055</th>\n",
       "      <td>162541</td>\n",
       "      <td>4973</td>\n",
       "      <td>4.5</td>\n",
       "      <td>1240950790</td>\n",
       "    </tr>\n",
       "    <tr>\n",
       "      <th>25000057</th>\n",
       "      <td>162541</td>\n",
       "      <td>4993</td>\n",
       "      <td>5.0</td>\n",
       "      <td>1240952610</td>\n",
       "    </tr>\n",
       "    <tr>\n",
       "      <th>25000065</th>\n",
       "      <td>162541</td>\n",
       "      <td>5952</td>\n",
       "      <td>5.0</td>\n",
       "      <td>1240952617</td>\n",
       "    </tr>\n",
       "    <tr>\n",
       "      <th>25000078</th>\n",
       "      <td>162541</td>\n",
       "      <td>7153</td>\n",
       "      <td>5.0</td>\n",
       "      <td>1240952613</td>\n",
       "    </tr>\n",
       "    <tr>\n",
       "      <th>25000081</th>\n",
       "      <td>162541</td>\n",
       "      <td>7361</td>\n",
       "      <td>4.5</td>\n",
       "      <td>1240953484</td>\n",
       "    </tr>\n",
       "  </tbody>\n",
       "</table>\n",
       "<p>1521245 rows × 4 columns</p>\n",
       "</div>"
      ],
      "text/plain": [
       "          userId  movieId  rating   timestamp\n",
       "0              1      296     5.0  1147880044\n",
       "29             1     4973     4.5  1147869080\n",
       "48             1     7361     5.0  1147880055\n",
       "72             2      110     5.0  1141416589\n",
       "76             2      260     5.0  1141417172\n",
       "...          ...      ...     ...         ...\n",
       "25000055  162541     4973     4.5  1240950790\n",
       "25000057  162541     4993     5.0  1240952610\n",
       "25000065  162541     5952     5.0  1240952617\n",
       "25000078  162541     7153     5.0  1240952613\n",
       "25000081  162541     7361     4.5  1240953484\n",
       "\n",
       "[1521245 rows x 4 columns]"
      ]
     },
     "execution_count": 20,
     "metadata": {},
     "output_type": "execute_result"
    }
   ],
   "source": [
    "all_users"
   ]
  },
  {
   "cell_type": "code",
   "execution_count": 21,
   "id": "c4d12355",
   "metadata": {
    "execution": {
     "iopub.execute_input": "2023-06-12T05:14:25.784715Z",
     "iopub.status.busy": "2023-06-12T05:14:25.784329Z",
     "iopub.status.idle": "2023-06-12T05:14:25.819717Z",
     "shell.execute_reply": "2023-06-12T05:14:25.818770Z"
    },
    "papermill": {
     "duration": 0.048188,
     "end_time": "2023-06-12T05:14:25.821960",
     "exception": false,
     "start_time": "2023-06-12T05:14:25.773772",
     "status": "completed"
    },
    "tags": []
   },
   "outputs": [],
   "source": [
    "all_users_recs = all_users['movieId'].value_counts() / len(all_users['userId'].unique())"
   ]
  },
  {
   "cell_type": "code",
   "execution_count": 22,
   "id": "668dcc13",
   "metadata": {
    "execution": {
     "iopub.execute_input": "2023-06-12T05:14:25.842614Z",
     "iopub.status.busy": "2023-06-12T05:14:25.842222Z",
     "iopub.status.idle": "2023-06-12T05:14:25.849550Z",
     "shell.execute_reply": "2023-06-12T05:14:25.848857Z"
    },
    "papermill": {
     "duration": 0.019733,
     "end_time": "2023-06-12T05:14:25.851375",
     "exception": false,
     "start_time": "2023-06-12T05:14:25.831642",
     "status": "completed"
    },
    "tags": []
   },
   "outputs": [
    {
     "data": {
      "text/plain": [
       "318      0.345282\n",
       "296      0.287220\n",
       "2571     0.246217\n",
       "356      0.237370\n",
       "593      0.227930\n",
       "           ...   \n",
       "1387     0.047886\n",
       "1307     0.046195\n",
       "745      0.037362\n",
       "78499    0.035445\n",
       "2355     0.025316\n",
       "Name: movieId, Length: 92, dtype: float64"
      ]
     },
     "execution_count": 22,
     "metadata": {},
     "output_type": "execute_result"
    }
   ],
   "source": [
    "all_users_recs"
   ]
  },
  {
   "cell_type": "markdown",
   "id": "a9fc17a2",
   "metadata": {
    "papermill": {
     "duration": 0.009244,
     "end_time": "2023-06-12T05:14:25.870116",
     "exception": false,
     "start_time": "2023-06-12T05:14:25.860872",
     "status": "completed"
    },
    "tags": []
   },
   "source": [
    "## Creating a recommendation score "
   ]
  },
  {
   "cell_type": "code",
   "execution_count": 23,
   "id": "3a524b61",
   "metadata": {
    "execution": {
     "iopub.execute_input": "2023-06-12T05:14:25.890640Z",
     "iopub.status.busy": "2023-06-12T05:14:25.890283Z",
     "iopub.status.idle": "2023-06-12T05:14:25.900671Z",
     "shell.execute_reply": "2023-06-12T05:14:25.899767Z"
    },
    "papermill": {
     "duration": 0.022811,
     "end_time": "2023-06-12T05:14:25.902412",
     "exception": false,
     "start_time": "2023-06-12T05:14:25.879601",
     "status": "completed"
    },
    "tags": []
   },
   "outputs": [],
   "source": [
    "rec_percentage = pd.concat([similar_users_recs, all_users_recs], axis = 1)\n",
    "rec_percentage.columns = ['similar' , 'all']"
   ]
  },
  {
   "cell_type": "code",
   "execution_count": 24,
   "id": "2ade9957",
   "metadata": {
    "execution": {
     "iopub.execute_input": "2023-06-12T05:14:25.922288Z",
     "iopub.status.busy": "2023-06-12T05:14:25.921934Z",
     "iopub.status.idle": "2023-06-12T05:14:25.933589Z",
     "shell.execute_reply": "2023-06-12T05:14:25.932885Z"
    },
    "papermill": {
     "duration": 0.02343,
     "end_time": "2023-06-12T05:14:25.935303",
     "exception": false,
     "start_time": "2023-06-12T05:14:25.911873",
     "status": "completed"
    },
    "tags": []
   },
   "outputs": [
    {
     "data": {
      "text/html": [
       "<div>\n",
       "<style scoped>\n",
       "    .dataframe tbody tr th:only-of-type {\n",
       "        vertical-align: middle;\n",
       "    }\n",
       "\n",
       "    .dataframe tbody tr th {\n",
       "        vertical-align: top;\n",
       "    }\n",
       "\n",
       "    .dataframe thead th {\n",
       "        text-align: right;\n",
       "    }\n",
       "</style>\n",
       "<table border=\"1\" class=\"dataframe\">\n",
       "  <thead>\n",
       "    <tr style=\"text-align: right;\">\n",
       "      <th></th>\n",
       "      <th>similar</th>\n",
       "      <th>all</th>\n",
       "    </tr>\n",
       "  </thead>\n",
       "  <tbody>\n",
       "    <tr>\n",
       "      <th>1</th>\n",
       "      <td>1.000000</td>\n",
       "      <td>0.125844</td>\n",
       "    </tr>\n",
       "    <tr>\n",
       "      <th>318</th>\n",
       "      <td>0.414556</td>\n",
       "      <td>0.345282</td>\n",
       "    </tr>\n",
       "    <tr>\n",
       "      <th>260</th>\n",
       "      <td>0.404561</td>\n",
       "      <td>0.224195</td>\n",
       "    </tr>\n",
       "    <tr>\n",
       "      <th>356</th>\n",
       "      <td>0.347253</td>\n",
       "      <td>0.237370</td>\n",
       "    </tr>\n",
       "    <tr>\n",
       "      <th>296</th>\n",
       "      <td>0.342663</td>\n",
       "      <td>0.287220</td>\n",
       "    </tr>\n",
       "    <tr>\n",
       "      <th>...</th>\n",
       "      <td>...</td>\n",
       "      <td>...</td>\n",
       "    </tr>\n",
       "    <tr>\n",
       "      <th>1259</th>\n",
       "      <td>0.102991</td>\n",
       "      <td>0.049349</td>\n",
       "    </tr>\n",
       "    <tr>\n",
       "      <th>7361</th>\n",
       "      <td>0.101881</td>\n",
       "      <td>0.105172</td>\n",
       "    </tr>\n",
       "    <tr>\n",
       "      <th>1206</th>\n",
       "      <td>0.101362</td>\n",
       "      <td>0.087500</td>\n",
       "    </tr>\n",
       "    <tr>\n",
       "      <th>1307</th>\n",
       "      <td>0.101066</td>\n",
       "      <td>0.046195</td>\n",
       "    </tr>\n",
       "    <tr>\n",
       "      <th>1208</th>\n",
       "      <td>0.100918</td>\n",
       "      <td>0.083250</td>\n",
       "    </tr>\n",
       "  </tbody>\n",
       "</table>\n",
       "<p>92 rows × 2 columns</p>\n",
       "</div>"
      ],
      "text/plain": [
       "       similar       all\n",
       "1     1.000000  0.125844\n",
       "318   0.414556  0.345282\n",
       "260   0.404561  0.224195\n",
       "356   0.347253  0.237370\n",
       "296   0.342663  0.287220\n",
       "...        ...       ...\n",
       "1259  0.102991  0.049349\n",
       "7361  0.101881  0.105172\n",
       "1206  0.101362  0.087500\n",
       "1307  0.101066  0.046195\n",
       "1208  0.100918  0.083250\n",
       "\n",
       "[92 rows x 2 columns]"
      ]
     },
     "execution_count": 24,
     "metadata": {},
     "output_type": "execute_result"
    }
   ],
   "source": [
    "rec_percentage"
   ]
  },
  {
   "cell_type": "code",
   "execution_count": 25,
   "id": "d4525a53",
   "metadata": {
    "execution": {
     "iopub.execute_input": "2023-06-12T05:14:25.955264Z",
     "iopub.status.busy": "2023-06-12T05:14:25.954889Z",
     "iopub.status.idle": "2023-06-12T05:14:25.960385Z",
     "shell.execute_reply": "2023-06-12T05:14:25.959465Z"
    },
    "papermill": {
     "duration": 0.017358,
     "end_time": "2023-06-12T05:14:25.962088",
     "exception": false,
     "start_time": "2023-06-12T05:14:25.944730",
     "status": "completed"
    },
    "tags": []
   },
   "outputs": [],
   "source": [
    "rec_percentage['score'] = rec_percentage['similar'] / rec_percentage['all']"
   ]
  },
  {
   "cell_type": "code",
   "execution_count": 26,
   "id": "8c344eba",
   "metadata": {
    "execution": {
     "iopub.execute_input": "2023-06-12T05:14:25.982725Z",
     "iopub.status.busy": "2023-06-12T05:14:25.982406Z",
     "iopub.status.idle": "2023-06-12T05:14:25.987663Z",
     "shell.execute_reply": "2023-06-12T05:14:25.986745Z"
    },
    "papermill": {
     "duration": 0.017639,
     "end_time": "2023-06-12T05:14:25.989508",
     "exception": false,
     "start_time": "2023-06-12T05:14:25.971869",
     "status": "completed"
    },
    "tags": []
   },
   "outputs": [],
   "source": [
    "rec_percentage = rec_percentage.sort_values('score', ascending=False)"
   ]
  },
  {
   "cell_type": "code",
   "execution_count": 27,
   "id": "08fe3c59",
   "metadata": {
    "execution": {
     "iopub.execute_input": "2023-06-12T05:14:26.009441Z",
     "iopub.status.busy": "2023-06-12T05:14:26.009085Z",
     "iopub.status.idle": "2023-06-12T05:14:26.022379Z",
     "shell.execute_reply": "2023-06-12T05:14:26.021059Z"
    },
    "papermill": {
     "duration": 0.02565,
     "end_time": "2023-06-12T05:14:26.024514",
     "exception": false,
     "start_time": "2023-06-12T05:14:25.998864",
     "status": "completed"
    },
    "tags": []
   },
   "outputs": [
    {
     "data": {
      "text/html": [
       "<div>\n",
       "<style scoped>\n",
       "    .dataframe tbody tr th:only-of-type {\n",
       "        vertical-align: middle;\n",
       "    }\n",
       "\n",
       "    .dataframe tbody tr th {\n",
       "        vertical-align: top;\n",
       "    }\n",
       "\n",
       "    .dataframe thead th {\n",
       "        text-align: right;\n",
       "    }\n",
       "</style>\n",
       "<table border=\"1\" class=\"dataframe\">\n",
       "  <thead>\n",
       "    <tr style=\"text-align: right;\">\n",
       "      <th></th>\n",
       "      <th>similar</th>\n",
       "      <th>all</th>\n",
       "      <th>score</th>\n",
       "    </tr>\n",
       "  </thead>\n",
       "  <tbody>\n",
       "    <tr>\n",
       "      <th>1</th>\n",
       "      <td>1.000000</td>\n",
       "      <td>0.125844</td>\n",
       "      <td>7.946323</td>\n",
       "    </tr>\n",
       "    <tr>\n",
       "      <th>3114</th>\n",
       "      <td>0.295498</td>\n",
       "      <td>0.054186</td>\n",
       "      <td>5.453383</td>\n",
       "    </tr>\n",
       "    <tr>\n",
       "      <th>2355</th>\n",
       "      <td>0.124685</td>\n",
       "      <td>0.025316</td>\n",
       "      <td>4.925186</td>\n",
       "    </tr>\n",
       "    <tr>\n",
       "      <th>78499</th>\n",
       "      <td>0.138161</td>\n",
       "      <td>0.035445</td>\n",
       "      <td>3.897906</td>\n",
       "    </tr>\n",
       "    <tr>\n",
       "      <th>588</th>\n",
       "      <td>0.233674</td>\n",
       "      <td>0.068117</td>\n",
       "      <td>3.430480</td>\n",
       "    </tr>\n",
       "    <tr>\n",
       "      <th>...</th>\n",
       "      <td>...</td>\n",
       "      <td>...</td>\n",
       "      <td>...</td>\n",
       "    </tr>\n",
       "    <tr>\n",
       "      <th>58559</th>\n",
       "      <td>0.160743</td>\n",
       "      <td>0.147779</td>\n",
       "      <td>1.087725</td>\n",
       "    </tr>\n",
       "    <tr>\n",
       "      <th>79132</th>\n",
       "      <td>0.129424</td>\n",
       "      <td>0.132559</td>\n",
       "      <td>0.976349</td>\n",
       "    </tr>\n",
       "    <tr>\n",
       "      <th>7361</th>\n",
       "      <td>0.101881</td>\n",
       "      <td>0.105172</td>\n",
       "      <td>0.968704</td>\n",
       "    </tr>\n",
       "    <tr>\n",
       "      <th>2959</th>\n",
       "      <td>0.205020</td>\n",
       "      <td>0.218656</td>\n",
       "      <td>0.937638</td>\n",
       "    </tr>\n",
       "    <tr>\n",
       "      <th>4973</th>\n",
       "      <td>0.104694</td>\n",
       "      <td>0.113410</td>\n",
       "      <td>0.923146</td>\n",
       "    </tr>\n",
       "  </tbody>\n",
       "</table>\n",
       "<p>92 rows × 3 columns</p>\n",
       "</div>"
      ],
      "text/plain": [
       "        similar       all     score\n",
       "1      1.000000  0.125844  7.946323\n",
       "3114   0.295498  0.054186  5.453383\n",
       "2355   0.124685  0.025316  4.925186\n",
       "78499  0.138161  0.035445  3.897906\n",
       "588    0.233674  0.068117  3.430480\n",
       "...         ...       ...       ...\n",
       "58559  0.160743  0.147779  1.087725\n",
       "79132  0.129424  0.132559  0.976349\n",
       "7361   0.101881  0.105172  0.968704\n",
       "2959   0.205020  0.218656  0.937638\n",
       "4973   0.104694  0.113410  0.923146\n",
       "\n",
       "[92 rows x 3 columns]"
      ]
     },
     "execution_count": 27,
     "metadata": {},
     "output_type": "execute_result"
    }
   ],
   "source": [
    "rec_percentage"
   ]
  },
  {
   "cell_type": "code",
   "execution_count": 28,
   "id": "3562efe7",
   "metadata": {
    "execution": {
     "iopub.execute_input": "2023-06-12T05:14:26.045518Z",
     "iopub.status.busy": "2023-06-12T05:14:26.045194Z",
     "iopub.status.idle": "2023-06-12T05:14:26.072274Z",
     "shell.execute_reply": "2023-06-12T05:14:26.071260Z"
    },
    "papermill": {
     "duration": 0.039672,
     "end_time": "2023-06-12T05:14:26.074239",
     "exception": false,
     "start_time": "2023-06-12T05:14:26.034567",
     "status": "completed"
    },
    "tags": []
   },
   "outputs": [
    {
     "data": {
      "text/html": [
       "<div>\n",
       "<style scoped>\n",
       "    .dataframe tbody tr th:only-of-type {\n",
       "        vertical-align: middle;\n",
       "    }\n",
       "\n",
       "    .dataframe tbody tr th {\n",
       "        vertical-align: top;\n",
       "    }\n",
       "\n",
       "    .dataframe thead th {\n",
       "        text-align: right;\n",
       "    }\n",
       "</style>\n",
       "<table border=\"1\" class=\"dataframe\">\n",
       "  <thead>\n",
       "    <tr style=\"text-align: right;\">\n",
       "      <th></th>\n",
       "      <th>similar</th>\n",
       "      <th>all</th>\n",
       "      <th>score</th>\n",
       "      <th>movieId</th>\n",
       "      <th>title</th>\n",
       "      <th>genres</th>\n",
       "      <th>clean_title</th>\n",
       "    </tr>\n",
       "  </thead>\n",
       "  <tbody>\n",
       "    <tr>\n",
       "      <th>0</th>\n",
       "      <td>1.000000</td>\n",
       "      <td>0.125844</td>\n",
       "      <td>7.946323</td>\n",
       "      <td>1</td>\n",
       "      <td>Toy Story (1995)</td>\n",
       "      <td>Adventure|Animation|Children|Comedy|Fantasy</td>\n",
       "      <td>Toy Story  1995</td>\n",
       "    </tr>\n",
       "    <tr>\n",
       "      <th>3021</th>\n",
       "      <td>0.295498</td>\n",
       "      <td>0.054186</td>\n",
       "      <td>5.453383</td>\n",
       "      <td>3114</td>\n",
       "      <td>Toy Story 2 (1999)</td>\n",
       "      <td>Adventure|Animation|Children|Comedy|Fantasy</td>\n",
       "      <td>Toy Story 2  1999</td>\n",
       "    </tr>\n",
       "    <tr>\n",
       "      <th>2264</th>\n",
       "      <td>0.124685</td>\n",
       "      <td>0.025316</td>\n",
       "      <td>4.925186</td>\n",
       "      <td>2355</td>\n",
       "      <td>Bug's Life, A (1998)</td>\n",
       "      <td>Adventure|Animation|Children|Comedy</td>\n",
       "      <td>Bug s Life  A  1998</td>\n",
       "    </tr>\n",
       "    <tr>\n",
       "      <th>14813</th>\n",
       "      <td>0.138161</td>\n",
       "      <td>0.035445</td>\n",
       "      <td>3.897906</td>\n",
       "      <td>78499</td>\n",
       "      <td>Toy Story 3 (2010)</td>\n",
       "      <td>Adventure|Animation|Children|Comedy|Fantasy|IMAX</td>\n",
       "      <td>Toy Story 3  2010</td>\n",
       "    </tr>\n",
       "    <tr>\n",
       "      <th>580</th>\n",
       "      <td>0.233674</td>\n",
       "      <td>0.068117</td>\n",
       "      <td>3.430480</td>\n",
       "      <td>588</td>\n",
       "      <td>Aladdin (1992)</td>\n",
       "      <td>Adventure|Animation|Children|Comedy|Musical</td>\n",
       "      <td>Aladdin  1992</td>\n",
       "    </tr>\n",
       "    <tr>\n",
       "      <th>587</th>\n",
       "      <td>0.198949</td>\n",
       "      <td>0.060514</td>\n",
       "      <td>3.287671</td>\n",
       "      <td>595</td>\n",
       "      <td>Beauty and the Beast (1991)</td>\n",
       "      <td>Animation|Children|Fantasy|Musical|Romance|IMAX</td>\n",
       "      <td>Beauty and the Beast  1991</td>\n",
       "    </tr>\n",
       "    <tr>\n",
       "      <th>33</th>\n",
       "      <td>0.158226</td>\n",
       "      <td>0.052696</td>\n",
       "      <td>3.002602</td>\n",
       "      <td>34</td>\n",
       "      <td>Babe (1995)</td>\n",
       "      <td>Children|Drama</td>\n",
       "      <td>Babe  1995</td>\n",
       "    </tr>\n",
       "    <tr>\n",
       "      <th>4780</th>\n",
       "      <td>0.210647</td>\n",
       "      <td>0.071444</td>\n",
       "      <td>2.948410</td>\n",
       "      <td>4886</td>\n",
       "      <td>Monsters, Inc. (2001)</td>\n",
       "      <td>Adventure|Animation|Children|Comedy|Fantasy</td>\n",
       "      <td>Monsters  Inc   2001</td>\n",
       "    </tr>\n",
       "    <tr>\n",
       "      <th>1047</th>\n",
       "      <td>0.143418</td>\n",
       "      <td>0.049202</td>\n",
       "      <td>2.914882</td>\n",
       "      <td>1073</td>\n",
       "      <td>Willy Wonka &amp; the Chocolate Factory (1971)</td>\n",
       "      <td>Children|Comedy|Fantasy|Musical</td>\n",
       "      <td>Willy Wonka   the Chocolate Factory  1971</td>\n",
       "    </tr>\n",
       "    <tr>\n",
       "      <th>729</th>\n",
       "      <td>0.108322</td>\n",
       "      <td>0.037362</td>\n",
       "      <td>2.899227</td>\n",
       "      <td>745</td>\n",
       "      <td>Wallace &amp; Gromit: A Close Shave (1995)</td>\n",
       "      <td>Animation|Children|Comedy</td>\n",
       "      <td>Wallace   Gromit  A Close Shave  1995</td>\n",
       "    </tr>\n",
       "  </tbody>\n",
       "</table>\n",
       "</div>"
      ],
      "text/plain": [
       "        similar       all     score  movieId  \\\n",
       "0      1.000000  0.125844  7.946323        1   \n",
       "3021   0.295498  0.054186  5.453383     3114   \n",
       "2264   0.124685  0.025316  4.925186     2355   \n",
       "14813  0.138161  0.035445  3.897906    78499   \n",
       "580    0.233674  0.068117  3.430480      588   \n",
       "587    0.198949  0.060514  3.287671      595   \n",
       "33     0.158226  0.052696  3.002602       34   \n",
       "4780   0.210647  0.071444  2.948410     4886   \n",
       "1047   0.143418  0.049202  2.914882     1073   \n",
       "729    0.108322  0.037362  2.899227      745   \n",
       "\n",
       "                                            title  \\\n",
       "0                                Toy Story (1995)   \n",
       "3021                           Toy Story 2 (1999)   \n",
       "2264                         Bug's Life, A (1998)   \n",
       "14813                          Toy Story 3 (2010)   \n",
       "580                                Aladdin (1992)   \n",
       "587                   Beauty and the Beast (1991)   \n",
       "33                                    Babe (1995)   \n",
       "4780                        Monsters, Inc. (2001)   \n",
       "1047   Willy Wonka & the Chocolate Factory (1971)   \n",
       "729        Wallace & Gromit: A Close Shave (1995)   \n",
       "\n",
       "                                                 genres  \\\n",
       "0           Adventure|Animation|Children|Comedy|Fantasy   \n",
       "3021        Adventure|Animation|Children|Comedy|Fantasy   \n",
       "2264                Adventure|Animation|Children|Comedy   \n",
       "14813  Adventure|Animation|Children|Comedy|Fantasy|IMAX   \n",
       "580         Adventure|Animation|Children|Comedy|Musical   \n",
       "587     Animation|Children|Fantasy|Musical|Romance|IMAX   \n",
       "33                                       Children|Drama   \n",
       "4780        Adventure|Animation|Children|Comedy|Fantasy   \n",
       "1047                    Children|Comedy|Fantasy|Musical   \n",
       "729                           Animation|Children|Comedy   \n",
       "\n",
       "                                      clean_title  \n",
       "0                                Toy Story  1995   \n",
       "3021                           Toy Story 2  1999   \n",
       "2264                         Bug s Life  A  1998   \n",
       "14813                          Toy Story 3  2010   \n",
       "580                                Aladdin  1992   \n",
       "587                   Beauty and the Beast  1991   \n",
       "33                                    Babe  1995   \n",
       "4780                        Monsters  Inc   2001   \n",
       "1047   Willy Wonka   the Chocolate Factory  1971   \n",
       "729        Wallace   Gromit  A Close Shave  1995   "
      ]
     },
     "execution_count": 28,
     "metadata": {},
     "output_type": "execute_result"
    }
   ],
   "source": [
    "rec_percentage.head(10).merge(df, left_index=True, right_on='movieId')"
   ]
  },
  {
   "cell_type": "markdown",
   "id": "d2978ea6",
   "metadata": {
    "papermill": {
     "duration": 0.009566,
     "end_time": "2023-06-12T05:14:26.093972",
     "exception": false,
     "start_time": "2023-06-12T05:14:26.084406",
     "status": "completed"
    },
    "tags": []
   },
   "source": [
    "## Building a recommendation function "
   ]
  },
  {
   "cell_type": "code",
   "execution_count": 29,
   "id": "0e44f222",
   "metadata": {
    "execution": {
     "iopub.execute_input": "2023-06-12T05:14:26.114689Z",
     "iopub.status.busy": "2023-06-12T05:14:26.114348Z",
     "iopub.status.idle": "2023-06-12T05:14:26.122649Z",
     "shell.execute_reply": "2023-06-12T05:14:26.121530Z"
    },
    "papermill": {
     "duration": 0.021016,
     "end_time": "2023-06-12T05:14:26.124557",
     "exception": false,
     "start_time": "2023-06-12T05:14:26.103541",
     "status": "completed"
    },
    "tags": []
   },
   "outputs": [],
   "source": [
    "def find_similar_movies(movie_id):\n",
    "    similar_users = ratings[(ratings['movieId'] == movie_id) & (ratings['rating'] > 4)]['userId'].unique()\n",
    "    similar_users_recs = ratings[(ratings['userId'].isin(similar_users)) & (ratings['rating'] > 4)]['movieId']\n",
    "    \n",
    "    similar_users_recs = similar_users_recs.value_counts() / len(similar_users)\n",
    "    similar_users_recs = similar_users_recs[similar_users_recs > .10]\n",
    "    \n",
    "    all_users = ratings[(ratings['movieId'].isin(similar_users_recs.index)) & (ratings['rating'] > 4)]\n",
    "    all_users_recs = all_users['movieId'].value_counts() / len(all_users['userId'].unique())\n",
    "    \n",
    "    rec_percentage = pd.concat([similar_users_recs, all_users_recs], axis=1)\n",
    "    rec_percentage.columns = ['similar','all']\n",
    "    \n",
    "    rec_percentage['score'] = rec_percentage['similar'] / rec_percentage['all']\n",
    "    \n",
    "    rec_percentage = rec_percentage.sort_values('score',ascending=False)\n",
    "    return rec_percentage.head(10).merge(df,left_index=True, right_on='movieId')[['score','title','genres']]"
   ]
  },
  {
   "cell_type": "markdown",
   "id": "2362829c",
   "metadata": {
    "papermill": {
     "duration": 0.009329,
     "end_time": "2023-06-12T05:14:26.143952",
     "exception": false,
     "start_time": "2023-06-12T05:14:26.134623",
     "status": "completed"
    },
    "tags": []
   },
   "source": [
    "## Creating an interactive recommendation widget "
   ]
  },
  {
   "cell_type": "code",
   "execution_count": 30,
   "id": "153a13e5",
   "metadata": {
    "execution": {
     "iopub.execute_input": "2023-06-12T05:14:26.165160Z",
     "iopub.status.busy": "2023-06-12T05:14:26.164786Z",
     "iopub.status.idle": "2023-06-12T05:14:26.180363Z",
     "shell.execute_reply": "2023-06-12T05:14:26.179217Z"
    },
    "papermill": {
     "duration": 0.028486,
     "end_time": "2023-06-12T05:14:26.182259",
     "exception": false,
     "start_time": "2023-06-12T05:14:26.153773",
     "status": "completed"
    },
    "tags": []
   },
   "outputs": [
    {
     "data": {
      "application/vnd.jupyter.widget-view+json": {
       "model_id": "7059859a65584612830ce1ff250149c4",
       "version_major": 2,
       "version_minor": 0
      },
      "text/plain": [
       "Text(value='Toy Story', description='Movie Title:')"
      ]
     },
     "metadata": {},
     "output_type": "display_data"
    },
    {
     "data": {
      "application/vnd.jupyter.widget-view+json": {
       "model_id": "c72225a3f72d482ab65b92efffa53ec5",
       "version_major": 2,
       "version_minor": 0
      },
      "text/plain": [
       "Output()"
      ]
     },
     "metadata": {},
     "output_type": "display_data"
    }
   ],
   "source": [
    "movie_input_name = widgets.Text(\n",
    "    value = 'Toy Story',\n",
    "    description = 'Movie Title:',\n",
    "    disabled = False\n",
    ")\n",
    "\n",
    "recommendation_list = widgets.Output()\n",
    "\n",
    "def on_type(data):\n",
    "    with recommendation_list:\n",
    "        recommendation_list.clear_output()\n",
    "        title = data['new']\n",
    "        if len(title) > 5:\n",
    "            results = search(title)\n",
    "            movie_id = results.iloc[0]['movieId']\n",
    "            display(find_similar_movies(movie_id))\n",
    "            \n",
    "            \n",
    "movie_input_name.observe(on_type, names='value')\n",
    "display(movie_input_name, recommendation_list)"
   ]
  }
 ],
 "metadata": {
  "kernelspec": {
   "display_name": "Python 3",
   "language": "python",
   "name": "python3"
  },
  "language_info": {
   "codemirror_mode": {
    "name": "ipython",
    "version": 3
   },
   "file_extension": ".py",
   "mimetype": "text/x-python",
   "name": "python",
   "nbconvert_exporter": "python",
   "pygments_lexer": "ipython3",
   "version": "3.10.10"
  },
  "papermill": {
   "default_parameters": {},
   "duration": 28.04337,
   "end_time": "2023-06-12T05:14:27.415838",
   "environment_variables": {},
   "exception": null,
   "input_path": "__notebook__.ipynb",
   "output_path": "__notebook__.ipynb",
   "parameters": {},
   "start_time": "2023-06-12T05:13:59.372468",
   "version": "2.4.0"
  },
  "widgets": {
   "application/vnd.jupyter.widget-state+json": {
    "state": {
     "0803f06a71c84d6ab39accbf42b779b4": {
      "model_module": "@jupyter-widgets/base",
      "model_module_version": "1.2.0",
      "model_name": "LayoutModel",
      "state": {
       "_model_module": "@jupyter-widgets/base",
       "_model_module_version": "1.2.0",
       "_model_name": "LayoutModel",
       "_view_count": null,
       "_view_module": "@jupyter-widgets/base",
       "_view_module_version": "1.2.0",
       "_view_name": "LayoutView",
       "align_content": null,
       "align_items": null,
       "align_self": null,
       "border": null,
       "bottom": null,
       "display": null,
       "flex": null,
       "flex_flow": null,
       "grid_area": null,
       "grid_auto_columns": null,
       "grid_auto_flow": null,
       "grid_auto_rows": null,
       "grid_column": null,
       "grid_gap": null,
       "grid_row": null,
       "grid_template_areas": null,
       "grid_template_columns": null,
       "grid_template_rows": null,
       "height": null,
       "justify_content": null,
       "justify_items": null,
       "left": null,
       "margin": null,
       "max_height": null,
       "max_width": null,
       "min_height": null,
       "min_width": null,
       "object_fit": null,
       "object_position": null,
       "order": null,
       "overflow": null,
       "overflow_x": null,
       "overflow_y": null,
       "padding": null,
       "right": null,
       "top": null,
       "visibility": null,
       "width": null
      }
     },
     "7059859a65584612830ce1ff250149c4": {
      "model_module": "@jupyter-widgets/controls",
      "model_module_version": "1.5.0",
      "model_name": "TextModel",
      "state": {
       "_dom_classes": [],
       "_model_module": "@jupyter-widgets/controls",
       "_model_module_version": "1.5.0",
       "_model_name": "TextModel",
       "_view_count": null,
       "_view_module": "@jupyter-widgets/controls",
       "_view_module_version": "1.5.0",
       "_view_name": "TextView",
       "continuous_update": true,
       "description": "Movie Title:",
       "description_tooltip": null,
       "disabled": false,
       "layout": "IPY_MODEL_0803f06a71c84d6ab39accbf42b779b4",
       "placeholder": "​",
       "style": "IPY_MODEL_e40a520961ac4639a6c76dd560ffdc7a",
       "value": "Toy Story"
      }
     },
     "884a18492393461aa15f50fc18873d6f": {
      "model_module": "@jupyter-widgets/controls",
      "model_module_version": "1.5.0",
      "model_name": "TextModel",
      "state": {
       "_dom_classes": [],
       "_model_module": "@jupyter-widgets/controls",
       "_model_module_version": "1.5.0",
       "_model_name": "TextModel",
       "_view_count": null,
       "_view_module": "@jupyter-widgets/controls",
       "_view_module_version": "1.5.0",
       "_view_name": "TextView",
       "continuous_update": true,
       "description": "Movie Title:",
       "description_tooltip": null,
       "disabled": false,
       "layout": "IPY_MODEL_8969ae2246b244b992521b1ab74b8058",
       "placeholder": "​",
       "style": "IPY_MODEL_fa3be07fa5f4438a942b10d79cfc3352",
       "value": "Toy Story"
      }
     },
     "8969ae2246b244b992521b1ab74b8058": {
      "model_module": "@jupyter-widgets/base",
      "model_module_version": "1.2.0",
      "model_name": "LayoutModel",
      "state": {
       "_model_module": "@jupyter-widgets/base",
       "_model_module_version": "1.2.0",
       "_model_name": "LayoutModel",
       "_view_count": null,
       "_view_module": "@jupyter-widgets/base",
       "_view_module_version": "1.2.0",
       "_view_name": "LayoutView",
       "align_content": null,
       "align_items": null,
       "align_self": null,
       "border": null,
       "bottom": null,
       "display": null,
       "flex": null,
       "flex_flow": null,
       "grid_area": null,
       "grid_auto_columns": null,
       "grid_auto_flow": null,
       "grid_auto_rows": null,
       "grid_column": null,
       "grid_gap": null,
       "grid_row": null,
       "grid_template_areas": null,
       "grid_template_columns": null,
       "grid_template_rows": null,
       "height": null,
       "justify_content": null,
       "justify_items": null,
       "left": null,
       "margin": null,
       "max_height": null,
       "max_width": null,
       "min_height": null,
       "min_width": null,
       "object_fit": null,
       "object_position": null,
       "order": null,
       "overflow": null,
       "overflow_x": null,
       "overflow_y": null,
       "padding": null,
       "right": null,
       "top": null,
       "visibility": null,
       "width": null
      }
     },
     "8f13579a361b4b59aec05501e621c83a": {
      "model_module": "@jupyter-widgets/base",
      "model_module_version": "1.2.0",
      "model_name": "LayoutModel",
      "state": {
       "_model_module": "@jupyter-widgets/base",
       "_model_module_version": "1.2.0",
       "_model_name": "LayoutModel",
       "_view_count": null,
       "_view_module": "@jupyter-widgets/base",
       "_view_module_version": "1.2.0",
       "_view_name": "LayoutView",
       "align_content": null,
       "align_items": null,
       "align_self": null,
       "border": null,
       "bottom": null,
       "display": null,
       "flex": null,
       "flex_flow": null,
       "grid_area": null,
       "grid_auto_columns": null,
       "grid_auto_flow": null,
       "grid_auto_rows": null,
       "grid_column": null,
       "grid_gap": null,
       "grid_row": null,
       "grid_template_areas": null,
       "grid_template_columns": null,
       "grid_template_rows": null,
       "height": null,
       "justify_content": null,
       "justify_items": null,
       "left": null,
       "margin": null,
       "max_height": null,
       "max_width": null,
       "min_height": null,
       "min_width": null,
       "object_fit": null,
       "object_position": null,
       "order": null,
       "overflow": null,
       "overflow_x": null,
       "overflow_y": null,
       "padding": null,
       "right": null,
       "top": null,
       "visibility": null,
       "width": null
      }
     },
     "a0bcd0b5b5db43759efcb400769271e5": {
      "model_module": "@jupyter-widgets/output",
      "model_module_version": "1.0.0",
      "model_name": "OutputModel",
      "state": {
       "_dom_classes": [],
       "_model_module": "@jupyter-widgets/output",
       "_model_module_version": "1.0.0",
       "_model_name": "OutputModel",
       "_view_count": null,
       "_view_module": "@jupyter-widgets/output",
       "_view_module_version": "1.0.0",
       "_view_name": "OutputView",
       "layout": "IPY_MODEL_8f13579a361b4b59aec05501e621c83a",
       "msg_id": "",
       "outputs": []
      }
     },
     "c72225a3f72d482ab65b92efffa53ec5": {
      "model_module": "@jupyter-widgets/output",
      "model_module_version": "1.0.0",
      "model_name": "OutputModel",
      "state": {
       "_dom_classes": [],
       "_model_module": "@jupyter-widgets/output",
       "_model_module_version": "1.0.0",
       "_model_name": "OutputModel",
       "_view_count": null,
       "_view_module": "@jupyter-widgets/output",
       "_view_module_version": "1.0.0",
       "_view_name": "OutputView",
       "layout": "IPY_MODEL_fa5701afb3264b37b794dd37de84270c",
       "msg_id": "",
       "outputs": []
      }
     },
     "e40a520961ac4639a6c76dd560ffdc7a": {
      "model_module": "@jupyter-widgets/controls",
      "model_module_version": "1.5.0",
      "model_name": "DescriptionStyleModel",
      "state": {
       "_model_module": "@jupyter-widgets/controls",
       "_model_module_version": "1.5.0",
       "_model_name": "DescriptionStyleModel",
       "_view_count": null,
       "_view_module": "@jupyter-widgets/base",
       "_view_module_version": "1.2.0",
       "_view_name": "StyleView",
       "description_width": ""
      }
     },
     "fa3be07fa5f4438a942b10d79cfc3352": {
      "model_module": "@jupyter-widgets/controls",
      "model_module_version": "1.5.0",
      "model_name": "DescriptionStyleModel",
      "state": {
       "_model_module": "@jupyter-widgets/controls",
       "_model_module_version": "1.5.0",
       "_model_name": "DescriptionStyleModel",
       "_view_count": null,
       "_view_module": "@jupyter-widgets/base",
       "_view_module_version": "1.2.0",
       "_view_name": "StyleView",
       "description_width": ""
      }
     },
     "fa5701afb3264b37b794dd37de84270c": {
      "model_module": "@jupyter-widgets/base",
      "model_module_version": "1.2.0",
      "model_name": "LayoutModel",
      "state": {
       "_model_module": "@jupyter-widgets/base",
       "_model_module_version": "1.2.0",
       "_model_name": "LayoutModel",
       "_view_count": null,
       "_view_module": "@jupyter-widgets/base",
       "_view_module_version": "1.2.0",
       "_view_name": "LayoutView",
       "align_content": null,
       "align_items": null,
       "align_self": null,
       "border": null,
       "bottom": null,
       "display": null,
       "flex": null,
       "flex_flow": null,
       "grid_area": null,
       "grid_auto_columns": null,
       "grid_auto_flow": null,
       "grid_auto_rows": null,
       "grid_column": null,
       "grid_gap": null,
       "grid_row": null,
       "grid_template_areas": null,
       "grid_template_columns": null,
       "grid_template_rows": null,
       "height": null,
       "justify_content": null,
       "justify_items": null,
       "left": null,
       "margin": null,
       "max_height": null,
       "max_width": null,
       "min_height": null,
       "min_width": null,
       "object_fit": null,
       "object_position": null,
       "order": null,
       "overflow": null,
       "overflow_x": null,
       "overflow_y": null,
       "padding": null,
       "right": null,
       "top": null,
       "visibility": null,
       "width": null
      }
     }
    },
    "version_major": 2,
    "version_minor": 0
   }
  }
 },
 "nbformat": 4,
 "nbformat_minor": 5
}
